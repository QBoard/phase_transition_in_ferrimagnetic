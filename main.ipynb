{
 "cells": [
  {
   "cell_type": "markdown",
   "metadata": {},
   "source": [
    "### 1. Import libraries and some modules"
   ]
  },
  {
   "cell_type": "code",
   "execution_count": 1,
   "metadata": {
    "ExecuteTime": {
     "end_time": "2020-10-30T11:35:10.718149Z",
     "start_time": "2020-10-30T11:35:08.493009Z"
    },
    "scrolled": true
   },
   "outputs": [],
   "source": [
    "from mpl_toolkits.mplot3d import axes3d\n",
    "import matplotlib.pyplot as plt\n",
    "\n",
    "from energy import energy\n",
    "from modules_2D_ferro import *\n",
    "\n",
    "import plotly.graph_objects as go\n",
    "from plotly.subplots import make_subplots"
   ]
  },
  {
   "cell_type": "markdown",
   "metadata": {},
   "source": [
    "### 2. Calculate model"
   ]
  },
  {
   "cell_type": "code",
   "execution_count": null,
   "metadata": {
    "ExecuteTime": {
     "end_time": "2020-10-30T11:35:46.390697Z",
     "start_time": "2020-10-30T11:35:42.718607Z"
    }
   },
   "outputs": [],
   "source": [
    "# Main function\n",
    "X_range = [0.1, 0.6]\n",
    "H_range = [0, 3 * (10 ** 5)]\n",
    "n_X = 100\n",
    "n_H = 100\n",
    "n_thetas = 30\n",
    "n_samples = 30\n",
    "\n",
    "X = np.linspace(X_range[0], X_range[1], n_X)\n",
    "H = np.linspace(H_range[0], H_range[1], n_H)\n",
    "Z = mainloop(X, H, n_thetas, n_samples)"
   ]
  },
  {
   "cell_type": "markdown",
   "metadata": {},
   "source": [
    "### Plot the w-shape"
   ]
  },
  {
   "cell_type": "code",
   "execution_count": 6,
   "metadata": {
    "ExecuteTime": {
     "end_time": "2020-10-30T11:37:03.976202Z",
     "start_time": "2020-10-30T11:36:56.935384Z"
    }
   },
   "outputs": [],
   "source": [
    "theory = np.loadtxt('phase_diag_ascii.dat', dtype=float)"
   ]
  },
  {
   "cell_type": "code",
   "execution_count": 7,
   "metadata": {
    "ExecuteTime": {
     "end_time": "2020-10-30T11:37:06.096848Z",
     "start_time": "2020-10-30T11:37:06.061638Z"
    }
   },
   "outputs": [],
   "source": [
    "Z_th = theory[:,2].reshape(501, 3000)"
   ]
  },
  {
   "cell_type": "code",
   "execution_count": null,
   "metadata": {
    "ExecuteTime": {
     "end_time": "2020-10-30T11:37:14.157199Z",
     "start_time": "2020-10-30T11:37:07.289153Z"
    }
   },
   "outputs": [],
   "source": [
    "fig = go.Figure()\n",
    "\n",
    "# Calculated w-shape\n",
    "fig.add_trace(\n",
    "    go.Contour(\n",
    "        z=Z.T,\n",
    "        x=X,\n",
    "        y=H,\n",
    "        ncontours=37,\n",
    "        colorbar=dict(\n",
    "            title='Accuracy', # title here\n",
    "            titleside='right',\n",
    "            titlefont=dict(\n",
    "                size=14,\n",
    "                family='Arial, sans-serif'\n",
    "            )\n",
    "        )\n",
    "    )\n",
    ")\n",
    "\n",
    "# Theoretical phase transition\n",
    "fig.add_trace(\n",
    "    go.Contour(\n",
    "        z=Z_th.T,\n",
    "        x=np.linspace(X[0], X[-1], 501),\n",
    "        y=np.linspace(H[0], H[-1], 3000),\n",
    "        ncontours=37,\n",
    "        contours_coloring='none'\n",
    "    )\n",
    ")\n",
    "\n",
    "fig.update_layout(\n",
    "    width=800,\n",
    "    height=800, \n",
    "    title='W-shape',\n",
    "    xaxis_title=\"x\",\n",
    "    yaxis_title=\"H\",\n",
    ")\n",
    "\n",
    "fig.update_xaxes(nticks=12)\n",
    "fig.update_yaxes(nticks=12)\n",
    "\n",
    "fig.show()"
   ]
  },
  {
   "cell_type": "code",
   "execution_count": null,
   "metadata": {
    "ExecuteTime": {
     "end_time": "2020-10-30T11:37:24.564310Z",
     "start_time": "2020-10-30T11:37:24.470585Z"
    }
   },
   "outputs": [],
   "source": [
    "fig = go.Figure()\n",
    "\n",
    "fig.add_trace(\n",
    "    go.Surface(\n",
    "        z=Z.T,\n",
    "        x=X,\n",
    "        y=H,\n",
    "        colorbar=dict(\n",
    "            title='Accuracy', # title here\n",
    "            titleside='right',\n",
    "            titlefont=dict(\n",
    "                size=14,\n",
    "                family='Arial, sans-serif'\n",
    "            )\n",
    "        )\n",
    "    )\n",
    ")\n",
    "\n",
    "# fig.update_traces(\n",
    "#     contours_z=dict(show=True, \n",
    "#                     usecolormap=True,\n",
    "#                     highlightcolor=\"limegreen\",\n",
    "#                     project_z=True))\n",
    "\n",
    "fig.update_layout(\n",
    "    paper_bgcolor='rgba(0,0,0,0)',\n",
    "    width=900,\n",
    "    height=900,\n",
    "    scene=dict(\n",
    "        xaxis_title=\"x\",\n",
    "        yaxis_title=\"H\",\n",
    "        zaxis_title='Accuracy',\n",
    "        xaxis=dict(\n",
    "            nticks=20\n",
    "        ),\n",
    "        yaxis=dict(\n",
    "            nticks=20\n",
    "        )\n",
    "    )\n",
    ")\n",
    "\n",
    "fig.show()"
   ]
  },
  {
   "cell_type": "code",
   "execution_count": null,
   "metadata": {
    "ExecuteTime": {
     "end_time": "2020-10-30T11:37:28.777485Z",
     "start_time": "2020-10-30T11:37:28.713150Z"
    }
   },
   "outputs": [],
   "source": [
    "Harray = [10, 80]\n",
    "# fig = go.Figure()\n",
    "plt.figure(figsize=(10,7))\n",
    "# plt.grid()\n",
    "for h in Harray:\n",
    "    plt.plot(X, Z[:, h], label=\"H = \" + str(h))\n",
    "# plt.legend(loc='lower right')\n",
    "plt.savefig('paper/fig/slices_' + loc, transparent=False)\n",
    "plt.xlabel('x', size=15)\n",
    "plt.ylabel('Accuracy', size=15)"
   ]
  }
 ],
 "metadata": {
  "kernelspec": {
   "display_name": "Python (hamiltonian_learning)",
   "language": "python",
   "name": "hamiltonian_learning"
  },
  "language_info": {
   "codemirror_mode": {
    "name": "ipython",
    "version": 3
   },
   "file_extension": ".py",
   "mimetype": "text/x-python",
   "name": "python",
   "nbconvert_exporter": "python",
   "pygments_lexer": "ipython3",
   "version": "3.7.4"
  },
  "latex_envs": {
   "LaTeX_envs_menu_present": true,
   "autoclose": false,
   "autocomplete": true,
   "bibliofile": "biblio.bib",
   "cite_by": "apalike",
   "current_citInitial": 1,
   "eqLabelWithNumbers": true,
   "eqNumInitial": 1,
   "hotkeys": {
    "equation": "Ctrl-E",
    "itemize": "Ctrl-I"
   },
   "labels_anchors": false,
   "latex_user_defs": false,
   "report_style_numbering": false,
   "user_envs_cfg": false
  },
  "toc": {
   "base_numbering": 1,
   "nav_menu": {},
   "number_sections": false,
   "sideBar": true,
   "skip_h1_title": false,
   "title_cell": "Table of Contents",
   "title_sidebar": "Contents",
   "toc_cell": false,
   "toc_position": {},
   "toc_section_display": true,
   "toc_window_display": true
  },
  "varInspector": {
   "cols": {
    "lenName": 16,
    "lenType": 16,
    "lenVar": 40
   },
   "kernels_config": {
    "python": {
     "delete_cmd_postfix": "",
     "delete_cmd_prefix": "del ",
     "library": "var_list.py",
     "varRefreshCmd": "print(var_dic_list())"
    },
    "r": {
     "delete_cmd_postfix": ") ",
     "delete_cmd_prefix": "rm(",
     "library": "var_list.r",
     "varRefreshCmd": "cat(var_dic_list()) "
    }
   },
   "types_to_exclude": [
    "module",
    "function",
    "builtin_function_or_method",
    "instance",
    "_Feature"
   ],
   "window_display": false
  }
 },
 "nbformat": 4,
 "nbformat_minor": 2
}
